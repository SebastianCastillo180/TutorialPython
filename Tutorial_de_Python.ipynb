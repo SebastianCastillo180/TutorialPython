{
  "nbformat": 4,
  "nbformat_minor": 0,
  "metadata": {
    "colab": {
      "provenance": [],
      "include_colab_link": true
    },
    "kernelspec": {
      "name": "python3",
      "display_name": "Python 3"
    }
  },
  "cells": [
    {
      "cell_type": "markdown",
      "metadata": {
        "id": "view-in-github",
        "colab_type": "text"
      },
      "source": [
        "<a href=\"https://colab.research.google.com/github/SebastianCastillo180/TutorialPython/blob/main/Tutorial_de_Python.ipynb\" target=\"_parent\"><img src=\"https://colab.research.google.com/assets/colab-badge.svg\" alt=\"Open In Colab\"/></a>"
      ]
    },
    {
      "cell_type": "markdown",
      "metadata": {
        "id": "eYoVPqp58EAA"
      },
      "source": [
        "[Link a Tutorial de Google Colab](https://colab.research.google.com/drive/17uy0s5-kKQ8TW-ab6Ny48jwt33XN20F7)\n",
        "\n",
        "\n",
        "[Link a Tutorial de Networkx en Colab](https://colab.research.google.com/drive/1m4OKhgu9InS4RL-foL8NFdj16NNriJ3H)"
      ]
    },
    {
      "cell_type": "markdown",
      "metadata": {
        "id": "juxsdVgb45cy"
      },
      "source": [
        "# **Tutorial de Python**\n",
        "\n",
        "Autor: Lic. Federico Sevlever.\n",
        "Docente en el Departamento de Física de la Universidad de Buenos Aires, Argentina.\n",
        "\n",
        "mail fedesevle@gmail.com\n",
        "\n",
        "Este tutorial es para aprender manejo básico de Python.\n",
        "Es de uso completamente libre.\n",
        "\n",
        "Cualquier duda o sugerencia no dudes en escribirme."
      ]
    },
    {
      "cell_type": "markdown",
      "metadata": {
        "id": "z6_bOKFN5KNn"
      },
      "source": [
        "# 1. Conceptos Básicos\n",
        "\n",
        "Antes de empezar vamos a recorrer algunos conceptos básicos y operaciones que aparecerán en casi todos los códigos que realicen."
      ]
    },
    {
      "cell_type": "code",
      "metadata": {
        "id": "q7v0zroN5KNr",
        "colab": {
          "base_uri": "https://localhost:8080/"
        },
        "outputId": "93a619ee-64b9-42b0-d51b-6d099c3e52bd"
      },
      "source": [
        "x = 3       #Definimos una variable numérica\n",
        "print(x)    #La función 'print()' la escribe en la pantalla\n",
        "\n",
        "y = 4\n",
        "print(y + 5)\n",
        "\n",
        "z = x + 2*y  #Podemos hacer cuentas, el '*' es el producto\n",
        "print(z)"
      ],
      "execution_count": 3,
      "outputs": [
        {
          "output_type": "stream",
          "name": "stdout",
          "text": [
            "3\n",
            "9\n",
            "11\n"
          ]
        }
      ]
    },
    {
      "cell_type": "code",
      "metadata": {
        "id": "aGeggUoa5KNz",
        "colab": {
          "base_uri": "https://localhost:8080/",
          "height": 210
        },
        "outputId": "57b01263-b207-4292-bc65-234f97dd8253"
      },
      "source": [
        "del z          # La función 'del' elimina la variable\n",
        "\n",
        "print(z)       # Error! (z ya no existe porque la eliminamos)"
      ],
      "execution_count": 2,
      "outputs": [
        {
          "output_type": "error",
          "ename": "NameError",
          "evalue": "name 'z' is not defined",
          "traceback": [
            "\u001b[0;31m---------------------------------------------------------------------------\u001b[0m",
            "\u001b[0;31mNameError\u001b[0m                                 Traceback (most recent call last)",
            "\u001b[0;32m<ipython-input-2-61fe3036401f>\u001b[0m in \u001b[0;36m<cell line: 3>\u001b[0;34m()\u001b[0m\n\u001b[1;32m      1\u001b[0m \u001b[0;32mdel\u001b[0m \u001b[0mz\u001b[0m          \u001b[0;31m# La función 'del' elimina la variable\u001b[0m\u001b[0;34m\u001b[0m\u001b[0;34m\u001b[0m\u001b[0m\n\u001b[1;32m      2\u001b[0m \u001b[0;34m\u001b[0m\u001b[0m\n\u001b[0;32m----> 3\u001b[0;31m \u001b[0mprint\u001b[0m\u001b[0;34m(\u001b[0m\u001b[0mz\u001b[0m\u001b[0;34m)\u001b[0m       \u001b[0;31m# Error! (z ya no existe porque la eliminamos)\u001b[0m\u001b[0;34m\u001b[0m\u001b[0;34m\u001b[0m\u001b[0m\n\u001b[0m",
            "\u001b[0;31mNameError\u001b[0m: name 'z' is not defined"
          ]
        }
      ]
    },
    {
      "cell_type": "markdown",
      "metadata": {
        "id": "_fTJJTvs5KN-"
      },
      "source": [
        "## 1. Tipos de variables\n",
        "\n",
        "1. type() funcion para saber el tipo de dato de una variable."
      ]
    },
    {
      "cell_type": "code",
      "metadata": {
        "id": "0bEZWlr35KOA",
        "colab": {
          "base_uri": "https://localhost:8080/"
        },
        "outputId": "d33d5314-cece-4b48-9e86-12d74c814353"
      },
      "source": [
        "print(type(4))     #int (entero)\n",
        "print(type(4.0))   #float (numero de punto flotante, numero con coma, decimal)\n",
        "print(type(True))  #boolean (booleana, binaria, True o False, 0 o 1)\n",
        "print(type(None))  #NoneType (variable vacia, no tiene nada)\n",
        "print(type('c'))   #string (secuencia de caracteres)\n",
        "print(type(\"hola\"))#string (secuencia de caracteres)\n",
        "print(type([]))    #list (lista, conjunto ordenado de elementos)\n",
        "print(type(print)) #builtin_function_or_method (funcion, serie de procesos, algoritmo)"
      ],
      "execution_count": 4,
      "outputs": [
        {
          "output_type": "stream",
          "name": "stdout",
          "text": [
            "<class 'int'>\n",
            "<class 'float'>\n",
            "<class 'bool'>\n",
            "<class 'NoneType'>\n",
            "<class 'str'>\n",
            "<class 'str'>\n",
            "<class 'list'>\n",
            "<class 'builtin_function_or_method'>\n"
          ]
        }
      ]
    },
    {
      "cell_type": "markdown",
      "metadata": {
        "id": "YOUY4kjZ5KOF"
      },
      "source": [
        "### Convierto numeros a strings y viceversa"
      ]
    },
    {
      "cell_type": "code",
      "metadata": {
        "id": "ZBUFaw5O5KOG"
      },
      "source": [
        "entero = 2\n",
        "# string = str(entero) #convierte el numero a string (caracter)\n",
        "# print(type(entero))\n",
        "# print(type(string))\n",
        "\n",
        "# print(2*3)\n",
        "print(entero+entero+entero) #puedo sumar numeros\n",
        "print(string+string+string) #no puedo sumar strings, los concateno\n",
        "\n",
        "print('El resultado es '+str(entero)) #puedo imprimir una variable numerica en un mensaje"
      ],
      "execution_count": null,
      "outputs": []
    },
    {
      "cell_type": "code",
      "metadata": {
        "id": "8fZm_xGK5KOL"
      },
      "source": [
        "print(int(string)+int(string)) #convierte el string a entero"
      ],
      "execution_count": null,
      "outputs": []
    },
    {
      "cell_type": "code",
      "metadata": {
        "id": "7XyuTq9Z5KOO"
      },
      "source": [
        "flotante=float(\"2.2\") #idem con numeros con coma\n",
        "flotante+flotante"
      ],
      "execution_count": null,
      "outputs": []
    },
    {
      "cell_type": "markdown",
      "metadata": {
        "collapsed": true,
        "id": "KPccKkFk5KOS"
      },
      "source": [
        "### Listas\n",
        "\n",
        "Una lista es una variable donde puedo ir guardando cualquier tipo de variables adentro, en el orden que quiera"
      ]
    },
    {
      "cell_type": "code",
      "metadata": {
        "id": "KF8-9Vzn5KOS"
      },
      "source": [
        "lista = [] #creo una lista vacía\n",
        "lista = list() #lista vacía. o bien para convertir otro tipo de dato en lista.\n",
        "print(lista)\n",
        "\n",
        "lista = [0] #lista con un unico elemento, el numero 0\n",
        "print(lista)\n",
        "\n",
        "#cada elemento va separado por una coma\n",
        "lista = ['Pepe', 8] #lista con dos elementos, el string 'Pepe' y el numero 8\n",
        "print(lista)"
      ],
      "execution_count": null,
      "outputs": []
    },
    {
      "cell_type": "code",
      "metadata": {
        "id": "Q4VNJquxnRRt"
      },
      "source": [
        "lista_super=['arroz','galletitas','cafe','pan']\n",
        "print(len(lista_super)) #devuelve la cantidad de elementos de la lista\n",
        "\n",
        "print(len([])) #una lista vacia tiene 0 cantidad de elementos"
      ],
      "execution_count": null,
      "outputs": []
    },
    {
      "cell_type": "markdown",
      "metadata": {
        "id": "aDZTY7Sk5KOV"
      },
      "source": [
        "Otras formas de crear listas:"
      ]
    },
    {
      "cell_type": "code",
      "metadata": {
        "id": "DjnDJc8L5KOW"
      },
      "source": [
        "elemento = 30\n",
        "cantidad_repeticiones = 5\n",
        "lista_repetida = [elemento]*cantidad_repeticiones #Crea una lista con la cantidad de veces elegida el elemento elegido\n",
        "print(lista_repetida)"
      ],
      "execution_count": null,
      "outputs": []
    },
    {
      "cell_type": "markdown",
      "metadata": {
        "id": "tZfS9T-d5KOa"
      },
      "source": [
        "**Operaciones** con listas"
      ]
    },
    {
      "cell_type": "code",
      "metadata": {
        "id": "O5I6Mc6t5KOb"
      },
      "source": [
        "lista_a = [\"3\"] * 2\n",
        "lista_b = [\"5\"] * 4\n",
        "\n",
        "lista_suma = lista_a+lista_b\n",
        "# la suma concatena los elementos de las listas sumadas en una única lista\n",
        "print(lista_suma)"
      ],
      "execution_count": null,
      "outputs": []
    },
    {
      "cell_type": "code",
      "metadata": {
        "id": "HaoPHvOdpL4H"
      },
      "source": [
        "lista_super=['arroz','galletitas','cafe','pan']\n",
        "elemento_para_agregar = 'chocolate'\n",
        "\n",
        "#con la funcion nombre_lista.append(nombre_elemento) le agrego a la lista el elemento al final\n",
        "print(lista_super)\n",
        "lista_super.append(elemento_para_agregar)\n",
        "print(lista_super)"
      ],
      "execution_count": null,
      "outputs": []
    },
    {
      "cell_type": "code",
      "metadata": {
        "id": "NP7F1OqaqQvQ"
      },
      "source": [
        "#Con nombre_lista[n] accedo al elemento n de la lista pedida, donde 'n' es un numero entero\n",
        "print(lista_super[0]) #notar que el primer elemento es el de numero 0,\n",
        "print(lista_super[1]) #entonces el elemento [1] es el segundo\n",
        "print(lista_super[len(lista_super)-1]) #Si quiero el ultimo elemento entonces pido la cantidad de elementos -1\n",
        "print(lista_super[-1]) #O mas facil, solo con -1"
      ],
      "execution_count": null,
      "outputs": []
    },
    {
      "cell_type": "markdown",
      "metadata": {
        "id": "I5VhK8525KOe"
      },
      "source": [
        "Acceder a elementos de una lista: la numeración comienza en 0 y va hasta length-1"
      ]
    },
    {
      "cell_type": "code",
      "metadata": {
        "id": "PWGZhZHA5KOf"
      },
      "source": [
        "frase = \"Pepe esta aprendiendo a programar en python\"\n",
        "lista_frase = frase.split(\" \") #divide al string en los elementos que separen el separador introducido, en este caso un espacio\n",
        "print(lista_frase)"
      ],
      "execution_count": null,
      "outputs": []
    },
    {
      "cell_type": "code",
      "metadata": {
        "id": "uaz8sKO0sY-L"
      },
      "source": [
        "inicio_intervalo = 1\n",
        "fin_intervalo = 3\n",
        "print(lista_frase[inicio_intervalo:fin_intervalo]) # puedo pedir todos los elementos en un intervalo\n",
        "print(lista_frase[inicio_intervalo:]) # o desde un lugar en adelante\n",
        "print(lista_frase[:fin_intervalo]) # o desde el primero hasta un lugar"
      ],
      "execution_count": null,
      "outputs": []
    },
    {
      "cell_type": "code",
      "metadata": {
        "id": "kySc4EAl5KO0"
      },
      "source": [
        "paso = 3\n",
        "print(lista_frase[0:7:paso]) # Puedo ir salteando elementos tambien\n",
        "print(lista_frase[::paso]) # Si no pongo nada entiende que va de principio a fin\n",
        "print(lista_frase[-1:0:-1]) # Tambien puedo ir para atras"
      ],
      "execution_count": null,
      "outputs": []
    },
    {
      "cell_type": "code",
      "metadata": {
        "id": "q7HqFXad5KO_"
      },
      "source": [
        "print(min([1,4,2.2])) # puedo sumar los elementos de una lista"
      ],
      "execution_count": null,
      "outputs": []
    },
    {
      "cell_type": "markdown",
      "metadata": {
        "id": "p02kQaQ65KPC"
      },
      "source": [
        "### Dicionarios\n",
        "\n",
        "En vez de acceder por índice como en las listas, se accede por una palabra o clave, llamada 'key'."
      ]
    },
    {
      "cell_type": "code",
      "metadata": {
        "id": "DAhOvJin5KPD"
      },
      "source": [
        "# Dos maneras de crear un diccionario\n",
        "diccionario_empanadas = dict()\n",
        "diccionario_empanadas = {}"
      ],
      "execution_count": null,
      "outputs": []
    },
    {
      "cell_type": "code",
      "metadata": {
        "id": "OPcMc7wbghPu"
      },
      "source": [
        "# Le puedo asignar una variable (en este caso la cantidad de empanadas) a cada \"key\" (el gusto de empanada)\n",
        "diccionario_empanadas['queso y cebolla'] = 5\n",
        "diccionario_empanadas['carne suave'] = 4\n",
        "diccionario_empanadas['humita'] = 8\n",
        "\n",
        "print(diccionario_empanadas)"
      ],
      "execution_count": null,
      "outputs": []
    },
    {
      "cell_type": "code",
      "metadata": {
        "id": "pE2dk12J5KPG"
      },
      "source": [
        "# asi accedo a lo que contiene el key 'humita'\n",
        "diccionario_empanadas['humita'] = 10"
      ],
      "execution_count": null,
      "outputs": []
    },
    {
      "cell_type": "code",
      "metadata": {
        "id": "b5iGyYNY5KPI"
      },
      "source": [
        "# así puedo ver los valores y keys que existen dentro del diccionario\n",
        "print(diccionario_empanadas.values())\n",
        "print(diccionario_empanadas.keys())\n",
        "print(diccionario_empanadas.items())\n"
      ],
      "execution_count": null,
      "outputs": []
    },
    {
      "cell_type": "markdown",
      "metadata": {
        "id": "ZUPGCerf5KN4"
      },
      "source": [
        "## 2. Comparaciones lógicas y condicionales\n",
        "\n",
        "Se pueden usar los operadores usuales <, >, <=, >=, ==(igualdad) and != (desigualdad). Las comparaciones devuelven una variable booleana que puede ser: True o False."
      ]
    },
    {
      "cell_type": "code",
      "metadata": {
        "id": "VNTRR9Ki5KN5"
      },
      "source": [
        "print(2==2)   # '==' devuelve un True o un False de acuerdo a si ambos lados son iguales o no\n",
        "print(2!=2)   # '!=' devuelve un True o un False de acuerdo a si ambos lados son distintos o no\n",
        "\n",
        "\n",
        "x=3\n",
        "y=2\n",
        "print(x < y) # '<=' devuelve un True o un False de acuerdo a si x es menor a y o no\n",
        "print(x > y) # '<=' devuelve un True o un False de acuerdo a si x es menor a y o no\n",
        "print(x <= y) # '<=' devuelve un True o un False de acuerdo a si x es menor o igual a y o no\n",
        "print(x >= y) # '<=' devuelve un True o un False de acuerdo a si x es menor o igual a y o no"
      ],
      "execution_count": null,
      "outputs": []
    },
    {
      "cell_type": "markdown",
      "metadata": {
        "id": "3X0jgI0e5KPm"
      },
      "source": [
        "### **if** (si, condicional)\n",
        "\n",
        "Cuando queremos que un proceso se realice solamente si se cumple alguna condicion. Si (condicion verdadera) entonces (proceso)."
      ]
    },
    {
      "cell_type": "code",
      "metadata": {
        "id": "qh0iiBPXrJEq"
      },
      "source": [
        "x=3\n",
        "y=2\n",
        "if x > y:\n",
        "  print('x es mayor a y')"
      ],
      "execution_count": null,
      "outputs": []
    },
    {
      "cell_type": "code",
      "metadata": {
        "id": "a4LZ8rWAzZDm"
      },
      "source": [
        "x=3\n",
        "y=2\n",
        "if x > y:\n",
        "  print('x es mayor a y') #tengo que 'indentar' o espaciar todo lo que este dentro del 'if'"
      ],
      "execution_count": null,
      "outputs": []
    },
    {
      "cell_type": "code",
      "metadata": {
        "id": "LXQWzXbr5KPr"
      },
      "source": [
        "# Si la condicion es falsa, nunca se ejecutan los procesos dentro del 'if'\n",
        "x=1\n",
        "y=2\n",
        "if x > y:\n",
        "  print('x es mayor a y')\n",
        "print('esto esta fuera del if porque no esta espaciado')"
      ],
      "execution_count": null,
      "outputs": []
    },
    {
      "cell_type": "markdown",
      "metadata": {
        "id": "tKGpbEejtCPb"
      },
      "source": [
        "### **else** (si no)\n",
        "\n",
        "Si (condicion verdadera), entonces (proceso).\n",
        "Si no (la condicion era falsa), entonces (otro proceso)"
      ]
    },
    {
      "cell_type": "code",
      "metadata": {
        "id": "Cv_7jngRs3C2"
      },
      "source": [
        "x=1\n",
        "y=2\n",
        "if x > y:\n",
        "  print('x es mayor a y')\n",
        "else: # podemos pedirle que si la condicion en el 'if' era falsa, que realice lo que pongamos dentro del else\n",
        "  print('x NO es mayor a y')"
      ],
      "execution_count": null,
      "outputs": []
    },
    {
      "cell_type": "markdown",
      "metadata": {
        "id": "dC0uZMdztpKF"
      },
      "source": [
        "### **elif** (o si)\n",
        "\n",
        "Se usa cuando queremos dividir en mas condiciones\n",
        "Si (condicion), entonces (proceso).\n",
        "Si (otra condicion), entonces (proceso)."
      ]
    },
    {
      "cell_type": "code",
      "metadata": {
        "id": "GyasRAjVuDCU"
      },
      "source": [
        "x=2\n",
        "y=2\n",
        "if x > y:\n",
        "  print('x es mayor a y')\n",
        "elif x == y: # Va a realizar la condicion verdadera, si ambas (la del 'if' y la del 'elif') lo son, va a realizar el else\n",
        "  print('x es igual a y')\n",
        "else:\n",
        "  print('x es menor a y')"
      ],
      "execution_count": null,
      "outputs": []
    },
    {
      "cell_type": "markdown",
      "metadata": {
        "id": "3mM_AGBVquRi"
      },
      "source": [
        "## 3. Loops o Ciclos\n",
        "\n",
        "Son la herramienta más importante en la programacion. Permiten repetir una serie de procesos una cantidad de veces o hasta que se cumpla alguna condición."
      ]
    },
    {
      "cell_type": "markdown",
      "metadata": {
        "id": "4xQdqIM0kLxd"
      },
      "source": [
        "### **For**\n",
        "Es un ciclo, se utiliza cuando queremos repetir una serie de procesos una cantidad dada de veces.\n",
        "\n",
        "1. _for_ elemento *in* lista:\n",
        "> Recorre cada elemento de la lista y para cada uno realiza las acciones que están tabuladas (corridas con sangría).\n"
      ]
    },
    {
      "cell_type": "code",
      "metadata": {
        "id": "lqTWrUOF5KPm"
      },
      "source": [
        "# imprimo los numeros enteros del 0 al 9\n",
        "enteros=[0,1,2,3,4,5,6,7,8,'nueve']\n",
        "for i in enteros:\n",
        "    print(i) # 'i' es, en cada repeticion, el elemento siguiente de la lista 'enteros'"
      ],
      "execution_count": null,
      "outputs": []
    },
    {
      "cell_type": "code",
      "metadata": {
        "id": "-CzJ0QQC5KPo"
      },
      "source": [
        "# la funcion range(numero_final) me da directamente los enteros desde 0 hasta numero_final-1\n",
        "numero_final=10\n",
        "for i in range(numero_final):\n",
        "    print(i, enteros[i])"
      ],
      "execution_count": null,
      "outputs": []
    },
    {
      "cell_type": "code",
      "metadata": {
        "id": "T2xm0GVX5KPp"
      },
      "source": [
        "# si pongo range(numero_inicial,numero_final) me da los enteros desde numero_inicial hasta numero_final-1\n",
        "numero_final=10\n",
        "numero_inicial=5\n",
        "for i in range(numero_inicial,numero_final):\n",
        "    print(i)"
      ],
      "execution_count": null,
      "outputs": []
    },
    {
      "cell_type": "code",
      "metadata": {
        "id": "axK50tYRoOSt"
      },
      "source": [
        "# si pongo range(numero_inicial,numero_final,paso) me da los enteros desde numero_inicial hasta numero_final-1\n",
        "numero_final=10\n",
        "numero_inicial=5\n",
        "paso=2\n",
        "for i in range(numero_inicial,numero_final,paso):\n",
        "    print(i)"
      ],
      "execution_count": null,
      "outputs": []
    },
    {
      "cell_type": "code",
      "metadata": {
        "id": "VptZ4p8ZohSZ"
      },
      "source": [
        "# puedo ir recorriendo los elementos de una lista\n",
        "lista_super=['arroz','galletitas','cafe','pan','chocolate']\n",
        "for producto in lista_super:\n",
        "    print(producto)"
      ],
      "execution_count": null,
      "outputs": []
    },
    {
      "cell_type": "code",
      "metadata": {
        "id": "eduK8CUQo_z_"
      },
      "source": [
        "# puedo ir recorriendo los elementos de una lista\n",
        "lista_super=['arroz','galletitas','cafe','pan','chocolate']\n",
        "for producto in lista_super:\n",
        "    print(producto)"
      ],
      "execution_count": null,
      "outputs": []
    },
    {
      "cell_type": "code",
      "metadata": {
        "id": "Dn7LVqVlp_EB"
      },
      "source": [
        "# o sino los indices de los elementos\n",
        "lista_super=['arroz','galletitas','cafe','pan','chocolate']\n",
        "for i in range(len(lista_super)):\n",
        "    print(lista_super[i])"
      ],
      "execution_count": null,
      "outputs": []
    },
    {
      "cell_type": "markdown",
      "metadata": {
        "id": "vCx30KX5ZGB1"
      },
      "source": [
        "### **while**\n",
        "Es un ciclo, se utiliza cuando queremos repetir una serie de procesos, como el **for**. La diferencia es que la cantidad de repeticiones no esta fija sino que se repetirá siempre y cuando se cumpla una condición.\n",
        "\n",
        "1. _while_ (condicion):\n",
        "> Siempre que la condicion sea verdadera realiza las acciones que están tabuladas (corridas con sangría) y vuelve a analizar la **condicion**.\n",
        "\n",
        "Mientras (condicion verdadera), ejecutá lo siguiente:\n"
      ]
    },
    {
      "cell_type": "code",
      "metadata": {
        "id": "ZMOEOMyp5KPu"
      },
      "source": [
        "# Hacemos un contador, donde definimos i=0 y le sumamos uno en cada repeticion\n",
        "i = 0\n",
        "while i<10: # el 'while' terminará cuando i=10, y saldrá del ciclo\n",
        "  print(i)\n",
        "  i = i + 1"
      ],
      "execution_count": null,
      "outputs": []
    },
    {
      "cell_type": "markdown",
      "metadata": {
        "id": "yMsPfVnnbBfO"
      },
      "source": [
        "### **break**\n",
        "Quebrar. Sirve para romper un ciclo.\n",
        "\n",
        "1. _while_ (condicion) ó _for_ elemento _in_ lista:\n",
        "> _if_ (condicion):\n",
        "> break\n",
        "\n",
        "Si (condicion verdadera), entonces quebrá el ciclo"
      ]
    },
    {
      "cell_type": "code",
      "metadata": {
        "id": "PZ8K-97d5KPx"
      },
      "source": [
        "# Hacemos un buscador, queremos ver si un elemento dado pertenece a una lista\n",
        "lista_super = ['arroz','galletitas','cafe','pan','chocolate']\n",
        "producto = 'cafe'\n",
        "for i in range(len(lista_super)):\n",
        "    if producto==lista_super[i]: #Si encuentra el elemento\n",
        "      print(producto + ' es el elemento ' + str(i) + ' de la lista')\n",
        "      break #Corta el 'for' y la variable 'i' sera la posicion del elemento\n",
        "print(i)\n",
        "print(lista_super[i])"
      ],
      "execution_count": null,
      "outputs": []
    },
    {
      "cell_type": "markdown",
      "metadata": {
        "id": "8qSjpzgl5KQG"
      },
      "source": [
        "## 4. ***try*** y ***except***\n",
        "\n",
        "---\n",
        "\n",
        "_try_:\n",
        "\n",
        "\n",
        "> (Ejecuta lo que sigue si no hay error)\n",
        "\n",
        "_except_:\n",
        "\n",
        "> (Si hay error, ejecuta la excepcion)\n",
        "\n",
        "\n",
        "---\n",
        "\n",
        "\n",
        "Dos comandos que nos permiten que el programa no se detenga por un error pero nos avise.\n",
        "Probá (serie de comandos), excepto error (serie de comandos)."
      ]
    },
    {
      "cell_type": "code",
      "metadata": {
        "id": "5FKlBUz95KQG"
      },
      "source": [
        "for i in range(-2,3):\n",
        "  try: # Ejecuta lo que sigue si no hay error\n",
        "      print(2/i)\n",
        "  except: # Si hay error, ejecuta la excepcion\n",
        "      print(\"Dividiste por 0!\")"
      ],
      "execution_count": null,
      "outputs": []
    },
    {
      "cell_type": "markdown",
      "metadata": {
        "id": "ggiwi2xt5KQA"
      },
      "source": [
        "# 2. Funciones\n",
        "---\n",
        "_def_ nombre_funcion(input_1,input_2,...):\n",
        "\n",
        "\n",
        "> (procesos de la funcion)\n",
        "\n",
        "\n",
        "> (usan los input y calculan un output)\n",
        "\n",
        "\n",
        "> _return_ output\n",
        "\n",
        "---\n",
        "\n",
        "Cuando un trozo de codigo lo necesitamos utilizar muchas veces se vuelve engorroso tener que escribirlo una y otra vez, y si además queremos cambiar algo tenemos que hacerlo sobre todos los pedazos dispersos. Para ello se suele encapsular en una función que puede llamarse cada vez que deseemos."
      ]
    },
    {
      "cell_type": "code",
      "metadata": {
        "id": "P_hek2SI5KQB"
      },
      "source": [
        "#Definamos una funcion que tome dos numeros y los sume\n",
        "def funcion_que_suma(input_1, input_2): # Esta linea define la funcion, NO la ejecuta\n",
        "  output = input_1 + input_2\n",
        "  #las variables input solo existiran dentro de la funcion y cuando termine se borran\n",
        "  return output #la unica variable que sobrevive es el output\n",
        "\n",
        "input_1 = 5\n",
        "input_2 = 3\n",
        "output = funcion_que_suma(input_1,input_2) # Acá ejecuto la función\n",
        "print(output)"
      ],
      "execution_count": null,
      "outputs": []
    },
    {
      "cell_type": "code",
      "source": [
        "funcion_que_suma('100','2')"
      ],
      "metadata": {
        "id": "NfYVuN7cQI95"
      },
      "execution_count": null,
      "outputs": []
    },
    {
      "cell_type": "markdown",
      "metadata": {
        "id": "lKaEm1QB5KQA"
      },
      "source": [
        "Una funcion puede cambiar un input y no devolver output"
      ]
    },
    {
      "cell_type": "code",
      "metadata": {
        "id": "RuB9rjjy5KQC"
      },
      "source": [
        "def intercambiar_primero_y_ultimo(input_1):\n",
        "  primer_elemento=input_1[0]\n",
        "  ultimo_elemento=input_1[-1]\n",
        "  input_1[-1]=primer_elemento\n",
        "  input_1[0]=ultimo_elemento\n",
        "  # Es una funcion sin 'return', solamente cambia la lista de entrada\n",
        "\n",
        "lista_super=['arroz','galletitas','cafe','pan','chocolate']\n",
        "intercambiar_primero_y_ultimo(lista_super) # Acá ejecuto la función\n",
        "# Notar que no se define ninguna nueva variable al output de la funcion, que no tiene\n",
        "print(lista_super)"
      ],
      "execution_count": null,
      "outputs": []
    },
    {
      "cell_type": "markdown",
      "metadata": {
        "id": "nIc4UUY-3v0b"
      },
      "source": [
        "# 3. Librerias\n",
        "\n",
        "\n",
        "---\n",
        "\n",
        "\n",
        "_import_ nombre_libreria\n",
        "\n",
        "\n",
        "---\n",
        "\n",
        "\n",
        "A veces uno quiere utilizar funciones específicas que no vienen con el default de python. Para ello están las librerías de funciones, que incluso uno mismo puede crear y que vienen con funciones específicas.\n",
        "\n",
        "\n",
        "A estas funciones específicas, se las llama como\n",
        "\n",
        "\n",
        "nombre_libreria.nombre_funcion"
      ]
    },
    {
      "cell_type": "markdown",
      "metadata": {
        "id": "V0cDrj7mr6Lm"
      },
      "source": [
        "## 1. Importar\n",
        "\n",
        "Para poder usar estas funciones, hay que importar la librería."
      ]
    },
    {
      "cell_type": "code",
      "metadata": {
        "id": "qYCRaZRm3v0c"
      },
      "source": [
        "import time           #importo la libreria de funciones para manejo de tiempo\n",
        "\n",
        "tiempo_inicial = time.time()          # toma el tiempo de la maquina\n",
        "time.sleep(1)                         # deja esperando 1 segundo\n",
        "tiempo_final = time.time()            # toma el tiempo de la maquina\n",
        "print(tiempo_final - tiempo_inicial)  # tiempo transcurrido en segundos"
      ],
      "execution_count": null,
      "outputs": []
    },
    {
      "cell_type": "code",
      "metadata": {
        "id": "npB681qh3v0d"
      },
      "source": [
        "import os   # librería para manejo de path, files, folders etc\n",
        "\n",
        "# devuelve la direccion del directorio actual (get Current Working Directory)\n",
        "directorio = os.getcwd()\n",
        "print(directorio)"
      ],
      "execution_count": null,
      "outputs": []
    },
    {
      "cell_type": "markdown",
      "metadata": {
        "id": "aBQ-SwTosOHX"
      },
      "source": [
        "Puedo importar abreviando el nombre de la libreria\n",
        "\n",
        "---\n",
        "\n",
        "\n",
        "***_import_*** nombre_libreria ***as*** abreviacion\n",
        "\n",
        "\n",
        "---"
      ]
    },
    {
      "cell_type": "code",
      "metadata": {
        "id": "CHiZoAS3sbqt"
      },
      "source": [
        "import time as t     #importo la libreria de funciones para manejo de tiempo\n",
        "\n",
        "tiempo_inicial = t.time()          # toma el tiempo de la maquina\n",
        "t.sleep(1)                         # deja esperando 1 segundo\n",
        "tiempo_final = t.time()            # toma el tiempo de la maquina\n",
        "print(tiempo_final - tiempo_inicial)  # tiempo transcurrido en segundos"
      ],
      "execution_count": null,
      "outputs": []
    },
    {
      "cell_type": "markdown",
      "metadata": {
        "id": "o45gycvH3v0i"
      },
      "source": [
        "También puedo importar una sola funcion de una librería\n",
        "\n",
        "---\n",
        "\n",
        "\n",
        "***_from_*** nombre_libreria ***_import_*** nombre_funcion\n",
        "\n",
        "\n",
        "---"
      ]
    },
    {
      "cell_type": "code",
      "metadata": {
        "id": "r0H7RXDN3v0i"
      },
      "source": [
        "from time import time,sleep\n",
        "\n",
        "tiempo_inicial = time()               # toma el tiempo de la maquina\n",
        "sleep(1)                              # deja esperando 1 segundo\n",
        "tiempo_final = time()                 # toma el tiempo de la maquina\n",
        "print(tiempo_final - tiempo_inicial)  # tiempo transcurrido en segundos"
      ],
      "execution_count": null,
      "outputs": []
    },
    {
      "cell_type": "markdown",
      "metadata": {
        "id": "VaBCVD3r3v0m"
      },
      "source": [
        "## 2. Numpy (Hacer cuentas)\n",
        "\n",
        "Numpy es la libreria de matemática más usada\n",
        "\n",
        "\n",
        "Documentacion https://docs.scipy.org/doc/numpy/reference/index.html"
      ]
    },
    {
      "cell_type": "code",
      "metadata": {
        "id": "HMm1Glu43v0n"
      },
      "source": [
        "import numpy as np"
      ],
      "execution_count": null,
      "outputs": []
    },
    {
      "cell_type": "markdown",
      "metadata": {
        "id": "YXUTaIaA3v0q"
      },
      "source": [
        "### Arrays (vectores)"
      ]
    },
    {
      "cell_type": "code",
      "metadata": {
        "id": "jVOosFe43v0s"
      },
      "source": [
        "np.array([1,4,3]) # convertir lista en numpy array\n",
        "\n",
        "a = np.arange(2,10,2) # array de enteros, desde 2 hasta 10 no inclusive, de a 2\n",
        "print(a)"
      ],
      "execution_count": null,
      "outputs": []
    },
    {
      "cell_type": "code",
      "metadata": {
        "id": "NDhts-nx3v0t"
      },
      "source": [
        "b = np.linspace(2,10,5) # de 2 a 10 inclusive, 5 elementos linealmente equiespaceados\n",
        "print(b)"
      ],
      "execution_count": null,
      "outputs": []
    },
    {
      "cell_type": "code",
      "metadata": {
        "id": "ZEu-fJ0X3v0v"
      },
      "source": [
        "#equiespaceamiento en escala logaritmica;\n",
        "# base 10, desde potencia 0 hasta potencia 4, 4 elementos\n",
        "log_espaciado = np.logspace(base=10,start=0,stop=3,num=4)\n",
        "print(log_espaciado)"
      ],
      "execution_count": null,
      "outputs": []
    },
    {
      "cell_type": "code",
      "metadata": {
        "id": "pP-_YMCS3v01"
      },
      "source": [
        "a = np.ones(5)#crea vector todo de 1\n",
        "b = np.zeros(5)#crea vector todo de 0\n",
        "print(a)\n",
        "print(b)"
      ],
      "execution_count": null,
      "outputs": []
    },
    {
      "cell_type": "markdown",
      "metadata": {
        "collapsed": true,
        "id": "cRjW3nHD3v01"
      },
      "source": [
        "### Operaciones Matemáticas"
      ]
    },
    {
      "cell_type": "code",
      "metadata": {
        "id": "gYuhc8px3v04"
      },
      "source": [
        "3/4"
      ],
      "execution_count": null,
      "outputs": []
    },
    {
      "cell_type": "code",
      "metadata": {
        "id": "NXBIWgeB3v05"
      },
      "source": [
        "3//4 # división entera"
      ],
      "execution_count": null,
      "outputs": []
    },
    {
      "cell_type": "code",
      "metadata": {
        "id": "vo2Sx5Lq3v07"
      },
      "source": [
        "115 % 3 # resto en la division por 3"
      ],
      "execution_count": null,
      "outputs": []
    },
    {
      "cell_type": "code",
      "metadata": {
        "id": "qVT19zRr3v09"
      },
      "source": [
        "b = np.zeros(5)#crea vector todo de 0\n",
        "b=b+1 # sum 1 to all vector\n",
        "print(b)"
      ],
      "execution_count": null,
      "outputs": []
    },
    {
      "cell_type": "code",
      "metadata": {
        "id": "M3wNr3SX3v0-"
      },
      "source": [
        "a = 2*a\n",
        "b = np.array([-1,0,1,10,100])"
      ],
      "execution_count": null,
      "outputs": []
    },
    {
      "cell_type": "code",
      "metadata": {
        "id": "79NS5W5M3v1D"
      },
      "source": [
        "b+a #suma vectorial"
      ],
      "execution_count": null,
      "outputs": []
    },
    {
      "cell_type": "code",
      "metadata": {
        "id": "vswZiCJy3v1G"
      },
      "source": [
        "a*b #producto elemento a elemento"
      ],
      "execution_count": null,
      "outputs": []
    },
    {
      "cell_type": "code",
      "metadata": {
        "id": "kDyWDiEt3v1I"
      },
      "source": [
        "a**3 #elevar cada elemento al cubo"
      ],
      "execution_count": null,
      "outputs": []
    },
    {
      "cell_type": "code",
      "metadata": {
        "id": "A8sH1l_J3v1K"
      },
      "source": [
        "a = np.ones((3,1))#vector columna\n",
        "b = np.array([[-1,0,2]])#vector fila\n",
        "print(a)\n",
        "print(b)"
      ],
      "execution_count": null,
      "outputs": []
    },
    {
      "cell_type": "code",
      "metadata": {
        "id": "hR1f6ZEv3v1M"
      },
      "source": [
        "a[0]"
      ],
      "execution_count": null,
      "outputs": []
    },
    {
      "cell_type": "code",
      "metadata": {
        "id": "MtPJ0irg3v1O"
      },
      "source": [
        "b[0]"
      ],
      "execution_count": null,
      "outputs": []
    },
    {
      "cell_type": "code",
      "metadata": {
        "id": "0HpBNjKs3v1P"
      },
      "source": [
        "b[0,0]"
      ],
      "execution_count": null,
      "outputs": []
    },
    {
      "cell_type": "code",
      "metadata": {
        "id": "jrFW2Wct3v1Q"
      },
      "source": [
        "# Trasposicion\n",
        "print(a)\n",
        "print(a.T)\n",
        "print(np.transpose(a))"
      ],
      "execution_count": null,
      "outputs": []
    },
    {
      "cell_type": "code",
      "metadata": {
        "id": "MDMTU09k3v1U"
      },
      "source": [
        "np.matmul(a,b)#multiplicacion matricial."
      ],
      "execution_count": null,
      "outputs": []
    },
    {
      "cell_type": "code",
      "metadata": {
        "id": "jI0A2ee13v1W"
      },
      "source": [
        "np.matmul(a.T,b.T)"
      ],
      "execution_count": null,
      "outputs": []
    },
    {
      "cell_type": "code",
      "metadata": {
        "id": "Z7poSPcC3v1Y"
      },
      "source": [
        "np.sum(a) #suma los elementos"
      ],
      "execution_count": null,
      "outputs": []
    },
    {
      "cell_type": "code",
      "metadata": {
        "id": "zUnA1Zew3v1Z"
      },
      "source": [
        "np.mean(a) #calcula valor medio"
      ],
      "execution_count": null,
      "outputs": []
    },
    {
      "cell_type": "code",
      "metadata": {
        "id": "VTheHnZj3v1c"
      },
      "source": [
        "np.median(a) #calcula mediana"
      ],
      "execution_count": null,
      "outputs": []
    },
    {
      "cell_type": "code",
      "metadata": {
        "id": "kv2dEQiV3v1f"
      },
      "source": [
        "np.std(a) #calcula desvío estándar"
      ],
      "execution_count": null,
      "outputs": []
    },
    {
      "cell_type": "code",
      "metadata": {
        "id": "aLjMj2wk3v1l"
      },
      "source": [
        "np.corrcoef([1,2,3],[3,2,0]) #matriz de correlación"
      ],
      "execution_count": null,
      "outputs": []
    },
    {
      "cell_type": "markdown",
      "metadata": {
        "id": "EGE85mET3v1n"
      },
      "source": [
        "Cuando aparecen nan, las funciones usuales retornan nan; para ello hay que usar otras o resolver el problema de los nan de otro modo."
      ]
    },
    {
      "cell_type": "code",
      "metadata": {
        "id": "YDS8JI1k3v1n"
      },
      "source": [
        "np.mean([1,5,6,np.nan])"
      ],
      "execution_count": null,
      "outputs": []
    },
    {
      "cell_type": "code",
      "metadata": {
        "id": "b2qCLLw53v1p"
      },
      "source": [
        "a2 = np.append(a,[np.nan])\n",
        "print(a2)\n",
        "np.nanmean(a2)"
      ],
      "execution_count": null,
      "outputs": []
    },
    {
      "cell_type": "code",
      "metadata": {
        "id": "O3jypXlo3v1q"
      },
      "source": [
        "np.nanstd(a2)"
      ],
      "execution_count": null,
      "outputs": []
    },
    {
      "cell_type": "markdown",
      "metadata": {
        "id": "XqF2i6IK3v2F"
      },
      "source": [
        "### Generar numeros aleatorios"
      ]
    },
    {
      "cell_type": "code",
      "metadata": {
        "id": "CkFWB9_5xB0F"
      },
      "source": [
        "np.random.random() # Devuelve un numero aleatorio entre 0 y 1, distribucion uniforme"
      ],
      "execution_count": null,
      "outputs": []
    },
    {
      "cell_type": "code",
      "metadata": {
        "id": "YSnWlcSJ3v2G"
      },
      "source": [
        "# Devuelve 'size' numeros aleatorios entre 'low' y 'high', distribucion uniforme\n",
        "random_vector = np.random.uniform(low=0, high=10, size=10)\n",
        "print(random_vector)"
      ],
      "execution_count": null,
      "outputs": []
    },
    {
      "cell_type": "code",
      "metadata": {
        "id": "tAQSYzFuxyGx"
      },
      "source": [
        "# Devuelve 'size' numeros aleatorios con distribucion gaussiana/normal\n",
        "# 'loc' es el valor medio y 'scale' el sigma\n",
        "random_vector = np.random.normal(loc=1, scale=0.1, size=10)\n",
        "print(random_vector)"
      ],
      "execution_count": null,
      "outputs": []
    },
    {
      "cell_type": "markdown",
      "metadata": {
        "id": "Sci40fCi3v2h"
      },
      "source": [
        "## 3. Matplotlib (Graficar)\n",
        "\n",
        "Librería para hacer graficos.\n",
        "\n",
        "\n",
        "Documentacion\n",
        "https://matplotlib.org/"
      ]
    },
    {
      "cell_type": "code",
      "metadata": {
        "id": "RJpYefMi3v2i"
      },
      "source": [
        "import matplotlib.pylab as plt"
      ],
      "execution_count": null,
      "outputs": []
    },
    {
      "cell_type": "code",
      "metadata": {
        "id": "8-jpoVHq3v2k"
      },
      "source": [
        "x = np.arange(100) # vector de enteros entre 0 y 100\n",
        "y = x**2           # elevo al cuadrado cada elemento\n",
        "plt.plot(x, y)     # grafico x vs y\n",
        "plt.show()"
      ],
      "execution_count": null,
      "outputs": []
    },
    {
      "cell_type": "code",
      "metadata": {
        "id": "KfpbHQEH3v2l"
      },
      "source": [
        "plt.plot(x, y, 'g.', label=\"Puntos verdes\")\n",
        "#'g' para que grafique en verde (green)\n",
        "#'.' para que grafique con puntos en lugar de una linea\n",
        "#label es la leyenda\n",
        "plt.plot(x, y+1000, 'r*', label = \"Estrellas rojas\")\n",
        "#'r' para que grafique en rojo (red)\n",
        "#'*' para que grafique con estrellitas\n",
        "plt.xlabel(\"X\")             # nombro el eje x\n",
        "plt.ylabel(\"X$^2$\")         # nombro el eje y\n",
        "plt.title(\"Parabolas\")      # pongo titulo\n",
        "plt.legend()                # arma la leyenda con los labels\n",
        "plt.show()                  # muestra la imagen"
      ],
      "execution_count": null,
      "outputs": []
    },
    {
      "cell_type": "code",
      "metadata": {
        "id": "Ul5RiXlV3v2n"
      },
      "source": [
        "y = np.exp(x) # funcion exponencial\n",
        "\n",
        "#creo subplots:\n",
        "#2 columnas 1 fila -> 2 graficos.\n",
        "# tamaño de la figura en x e y 12*6\n",
        "fig, ax = plt.subplots(ncols=2, nrows=1, figsize=(12,6))\n",
        "plt.suptitle(\"Esto si que pinta bien\")\n",
        "\n",
        "#primer plot\n",
        "ax[0].plot(x, y, 'g.', label=\"exponencial!!!\")\n",
        "ax[0].set_xlabel(\"x\")\n",
        "ax[0].legend()\n",
        "#segundo plot\n",
        "ax[1].semilogy(x, y, 'r*', label = \"APA! eje y logaritmico\")#rojo con estrellitas\n",
        "ax[1].legend()#usa los labels para armar la legenda.\n",
        "plt.show()"
      ],
      "execution_count": null,
      "outputs": []
    },
    {
      "cell_type": "code",
      "metadata": {
        "id": "0XnsCyce3v2p"
      },
      "source": [
        "color = (0.5,0.2,0.8,0.7)#(red,green,blue,alpha) donde alpha es la opacidad\n",
        "x = np.random.exponential(scale=10,size=100)\n",
        "y = x**2\n",
        "\n",
        "plt.loglog(x,y,'o',c=color)\n",
        "plt.title(\"log en ambos ejes\")\n",
        "plt.show()"
      ],
      "execution_count": null,
      "outputs": []
    },
    {
      "cell_type": "code",
      "metadata": {
        "id": "GBvMy9X23v2q"
      },
      "source": [
        "plt.bar([1,5,8],[2,4,6])\n",
        "plt.show()"
      ],
      "execution_count": null,
      "outputs": []
    },
    {
      "cell_type": "code",
      "metadata": {
        "id": "6MjSew8q3v2s"
      },
      "source": [
        "for size in [10, 100, 1000, 10000]:\n",
        "    r = np.random.normal(loc=5, scale=3, size=size)\n",
        "    plt.hist(r, bins=int(np.sqrt(size)))#histograms\n",
        "    plt.axvline(5, c=\"red\")#vertical lines\n",
        "    plt.title(\"size = {}\".format(size))\n",
        "    plt.show()"
      ],
      "execution_count": null,
      "outputs": []
    },
    {
      "cell_type": "markdown",
      "metadata": {
        "id": "NCr5fbiG3v2v"
      },
      "source": [
        "## 4. Scipy (Ajustes y más)\n",
        "\n",
        "Librería para manejo de estadística y cosas útiles como fiteos.\n",
        "\n",
        "Documentacion\n",
        "https://scipy-cookbook.readthedocs.io/items/FittingData.html"
      ]
    },
    {
      "cell_type": "markdown",
      "metadata": {
        "id": "Mf3YsdVE1l43"
      },
      "source": [
        "Ejemplos de ajustes"
      ]
    },
    {
      "cell_type": "markdown",
      "metadata": {
        "id": "3bn-pouT3v2v"
      },
      "source": [
        "### Minimización"
      ]
    },
    {
      "cell_type": "code",
      "metadata": {
        "id": "AUjhYtFY3v2w"
      },
      "source": [
        "from scipy.optimize import minimize\n",
        "f = lambda X:((X[0]-5)**2)+(X[1]-7)**2#funcion a minimizar\n",
        "x0 = [0, 0]#valores iniciales donde empezar a inspeccionar la minimización\n",
        "res = minimize(f, x0, method='Nelder-Mead', tol=1e-6)\n",
        "res#minimos en [5, 7]"
      ],
      "execution_count": null,
      "outputs": []
    },
    {
      "cell_type": "markdown",
      "metadata": {
        "id": "48JxMtC93v2y"
      },
      "source": [
        "### Cuadrados minimos"
      ]
    },
    {
      "cell_type": "code",
      "metadata": {
        "id": "7pWNfPDx3v2y"
      },
      "source": [
        "import numpy as np\n",
        "from scipy import optimize\n",
        "import matplotlib.pylab as plt\n",
        "%matplotlib inline\n",
        "\n",
        "# genera puntos con ruido\n",
        "num_points = 150\n",
        "x = np.linspace(-20, 5., num_points)\n",
        "y = x**2+5*x-2+np.random.normal(scale=10, size=num_points)"
      ],
      "execution_count": null,
      "outputs": []
    },
    {
      "cell_type": "markdown",
      "metadata": {
        "id": "fqWDDdy13v2z"
      },
      "source": [
        "Fiteo lineal"
      ]
    },
    {
      "cell_type": "code",
      "metadata": {
        "id": "SX0cstCI3v20"
      },
      "source": [
        "fitfunc = lambda p, x: p[0]*x+p[1]# Funcion con la que queremos fitear la data\n",
        "p0 = [1, 1] # Parametros iniciales para fitear"
      ],
      "execution_count": null,
      "outputs": []
    },
    {
      "cell_type": "code",
      "metadata": {
        "id": "W8IUvwou3v21"
      },
      "source": [
        "errfunc = lambda p, x, y: fitfunc(p, x) - y # Distancia a la función objetivo\n",
        "p1, success = optimize.leastsq(errfunc, p0[:], args=(x, y))\n",
        "plt.plot(x, y, \"ro\", x, fitfunc(p1, x), \"k-\", linewidth=3) # Plot of the data and"
      ],
      "execution_count": null,
      "outputs": []
    },
    {
      "cell_type": "markdown",
      "metadata": {
        "id": "v__fAdUh3v23"
      },
      "source": [
        "Fiteo cuadrático"
      ]
    },
    {
      "cell_type": "code",
      "metadata": {
        "id": "X1NUAF4v3v24"
      },
      "source": [
        "fitfunc = lambda p, x: p[0]*x**2+p[1]*x+p[2]# Funcion con la que queremos fitear la data\n",
        "p0 = [1, 1, 1] # Parametros iniciales para fitear"
      ],
      "execution_count": null,
      "outputs": []
    },
    {
      "cell_type": "code",
      "metadata": {
        "id": "alDUdQQk3v25"
      },
      "source": [
        "errfunc = lambda p, x, y: fitfunc(p, x) - y # Distancia a la función objetivo\n",
        "p1, success = optimize.leastsq(errfunc, p0[:], args=(x, y))\n",
        "plt.plot(x, y, \"ro\", x, fitfunc(p1, x), \"k-\", linewidth=3) # Plot of the data and"
      ],
      "execution_count": null,
      "outputs": []
    },
    {
      "cell_type": "markdown",
      "metadata": {
        "id": "jP4raqQ_3v26"
      },
      "source": [
        "### Fiteando una ley de potencias (Scale-free networks)\n",
        "\n",
        "#### Generacion de los datos\n",
        "Generate some data with noise to demonstrate the fitting procedure. Data is generated with an amplitude of 10 and a power-law index of -2.0. Notice that all of our data is well-behaved when the log is taken... you may have to be more careful of this for real data."
      ]
    },
    {
      "cell_type": "code",
      "metadata": {
        "id": "4aq_wnuM3v27"
      },
      "source": [
        "# Define function for calculating a power law\n",
        "powerlaw = lambda x, amp, index: amp * (x**index)\n",
        "\n",
        "##########\n",
        "# Generate data points with noise\n",
        "##########\n",
        "num_points = 20\n",
        "\n",
        "# Note: all positive, non-zero data\n",
        "xdata = np.linspace(1.1, 10.1, num_points)\n",
        "ydata = powerlaw(xdata, 10.0, -2.0)     # simulated perfect data\n",
        "yerr = 0.2 * ydata                      # simulated errors (10%)\n",
        "\n",
        "ydata += np.random.randn(num_points) * yerr       # simulated noisy data\n",
        "\n",
        "plt.plot(xdata,ydata)\n",
        "plt.errorbar(xdata, ydata, yerr=yerr, fmt='k.')\n",
        "plt.show()"
      ],
      "execution_count": null,
      "outputs": []
    },
    {
      "cell_type": "markdown",
      "metadata": {
        "id": "RepHILlH3v29"
      },
      "source": [
        "\n",
        "#### Fiteando los datos\n",
        "\n",
        "If your data is well-behaved, you can fit a power-law function by first converting to a linear equation by using the logarithm. Then use the optimize function to fit a straight line. Notice that we are weighting by positional uncertainties during the fit. Also, the best-fit parameters uncertainties are estimated from the variance-covariance matrix. You should read up on when it may not be appropriate to use this form of error estimation.\n",
        "\n",
        "If you are trying to fit a power-law distribution, [this first solution] or [this second solution](https://github.com/keflavich/plfit) are more appropriated. (Todavia no probamos estos paquetes, y tampoco es la intención que lo hagan de esa forma)\n"
      ]
    },
    {
      "cell_type": "code",
      "metadata": {
        "id": "mPVVG8qK3v2-"
      },
      "source": [
        "##########\n",
        "# Fitting the data -- Least Squares Method\n",
        "##########\n",
        "\n",
        "# Power-law fitting is best done by first converting\n",
        "# to a linear equation and then fitting to a straight line.\n",
        "# Note that the `logyerr` term here is ignoring a constant prefactor.\n",
        "#\n",
        "#  y = a * x^b\n",
        "#  log(y) = log(a) + b*log(x)\n",
        "#\n",
        "\n",
        "logx = np.log10(xdata)\n",
        "logy = np.log10(ydata)\n",
        "logyerr = yerr / ydata\n",
        "\n",
        "# define our (line) fitting function\n",
        "fitfunc = lambda p, x: p[0] + p[1] * x\n",
        "errfunc = lambda p, x, y, err: (y - fitfunc(p, x)) / err\n",
        "\n",
        "pinit = [1.0, -1.0]\n",
        "out = optimize.leastsq(errfunc, pinit,args=(logx, logy, logyerr), full_output=1)\n",
        "\n",
        "pfinal = out[0]\n",
        "covar = out[1]\n",
        "print(pfinal)\n",
        "print(covar)\n",
        "\n",
        "index = pfinal[1]\n",
        "amp = 10.0**pfinal[0]\n",
        "\n",
        "indexErr = np.sqrt( covar[1][1] )\n",
        "ampErr = np.sqrt( covar[0][0] ) * amp\n",
        "\n",
        "##########\n",
        "# Plotting data\n",
        "##########\n",
        "\n",
        "plt.clf()\n",
        "plt.subplot(2, 1, 1)\n",
        "plt.plot(xdata, powerlaw(xdata, amp, index))     # Fit\n",
        "plt.errorbar(xdata, ydata, yerr=yerr, fmt='k.')  # Data\n",
        "plt.text(5, 6.5, 'Ampli = %5.2f +/- %5.2f' % (amp, ampErr))\n",
        "plt.text(5, 5.5, 'Index = %5.2f +/- %5.2f' % (index, indexErr))\n",
        "plt.title('Best Fit Power Law')\n",
        "plt.xlabel('X')\n",
        "plt.ylabel('Y')\n",
        "plt.xlim(1, 11)\n",
        "\n",
        "plt.subplot(2, 1, 2)\n",
        "plt.loglog(xdata, powerlaw(xdata, amp, index))\n",
        "plt.errorbar(xdata, ydata, yerr=yerr, fmt='k.')  # Data\n",
        "plt.xlabel('X (log scale)')\n",
        "plt.ylabel('Y (log scale)')\n",
        "plt.xlim(1.0, 11)"
      ],
      "execution_count": null,
      "outputs": []
    }
  ]
}